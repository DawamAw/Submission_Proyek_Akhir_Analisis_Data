{
  "cells": [
    {
      "cell_type": "markdown",
      "metadata": {
        "id": "H9wADwK78DCz"
      },
      "source": [
        "# Proyek Analisis Data: [Bike Sharing Dataset]\n",
        "- **Nama:** [Muhammad Dawam Anwar Kurniawan]\n",
        "- **Email:** [mdawam226@gmail.com]\n",
        "- **ID Dicoding:** [dawam_anwar]"
      ]
    },
    {
      "cell_type": "markdown",
      "metadata": {
        "id": "eE0raob58DC0"
      },
      "source": [
        "## Menentukan Pertanyaan Bisnis"
      ]
    },
    {
      "cell_type": "markdown",
      "metadata": {
        "id": "GmQeQ5YF8DC0"
      },
      "source": [
        "- Bagaimana pola penyewaan sepeda antara pengguna terdaftar dan pengguna kasual?\n",
        "- Bagaimana variasi penyewaan sepeda berdasarkan hari dalam seminggu dan jenis cuaca?\n",
        "- Bagaimana cara mengelompokkan data penyewaan berdasarkan suhu, kelembapan, dan kecepatan angin untuk memahami pola penyewaan sepeda?\n",
        "- Apa pola penyewaan sepeda berdasarkan musim dan bagaimana pengaruhnya terhadap jumlah sewa di setiap musim?\n",
        "- Bagaimana perbedaan pola penyewaan sepeda antara hari kerja dan hari libur?\n",
        "- Bagaimana pengaruh cuaca terhadap perbedaan jumlah penyewaan antara pengguna kasual dan terdaftar?"
      ]
    },
    {
      "cell_type": "markdown",
      "metadata": {
        "id": "H-z4QGlO8DC1"
      },
      "source": [
        "## Import Semua Packages/Library yang Digunakan"
      ]
    },
    {
      "cell_type": "code",
      "execution_count": null,
      "metadata": {
        "id": "FVYwaObI8DC1"
      },
      "outputs": [],
      "source": [
        "import numpy as np\n",
        "import pandas as pd\n",
        "import matplotlib.pyplot as plt\n",
        "import seaborn as sns\n"
      ]
    },
    {
      "cell_type": "markdown",
      "source": [
        "Pada tahap ini kita akan mengumpulkan data yang telah kita kumpulkan. Karena saya memilih E-Commerce Public Dataset, maka saya mengimpor file yang saya butuhkan,saya mengimpornya file csv dari drive"
      ],
      "metadata": {
        "id": "wBU71VUs1ieb"
      }
    },
    {
      "cell_type": "code",
      "source": [
        "from google.colab import drive\n",
        "drive.mount('/content/drive')"
      ],
      "metadata": {
        "id": "w-s0j2nB2iJQ",
        "outputId": "62ae0870-fee8-4bce-eadd-1f343c7a518b",
        "colab": {
          "base_uri": "https://localhost:8080/"
        }
      },
      "execution_count": null,
      "outputs": [
        {
          "output_type": "stream",
          "name": "stdout",
          "text": [
            "Mounted at /content/drive\n"
          ]
        }
      ]
    },
    {
      "cell_type": "markdown",
      "metadata": {
        "id": "sXU2GBYu8DC1"
      },
      "source": [
        "### Gathering Data"
      ]
    },
    {
      "cell_type": "code",
      "execution_count": null,
      "metadata": {
        "id": "zjCBk1BI8DC1",
        "outputId": "e0760f36-b421-4088-9995-afd89d2bfa87",
        "colab": {
          "base_uri": "https://localhost:8080/"
        }
      },
      "outputs": [
        {
          "output_type": "stream",
          "name": "stdout",
          "text": [
            "   instant      dteday  season  yr  mnth  holiday  weekday  workingday  \\\n",
            "0        1  2011-01-01       1   0     1        0        6           0   \n",
            "1        2  2011-01-02       1   0     1        0        0           0   \n",
            "2        3  2011-01-03       1   0     1        0        1           1   \n",
            "3        4  2011-01-04       1   0     1        0        2           1   \n",
            "4        5  2011-01-05       1   0     1        0        3           1   \n",
            "\n",
            "   weathersit      temp     atemp       hum  windspeed  casual  registered  \\\n",
            "0           2  0.344167  0.363625  0.805833   0.160446     331         654   \n",
            "1           2  0.363478  0.353739  0.696087   0.248539     131         670   \n",
            "2           1  0.196364  0.189405  0.437273   0.248309     120        1229   \n",
            "3           1  0.200000  0.212122  0.590435   0.160296     108        1454   \n",
            "4           1  0.226957  0.229270  0.436957   0.186900      82        1518   \n",
            "\n",
            "    cnt  \n",
            "0   985  \n",
            "1   801  \n",
            "2  1349  \n",
            "3  1562  \n",
            "4  1600  \n"
          ]
        }
      ],
      "source": [
        "\n",
        "file_path = '/content/drive/My Drive/Dataset/day.csv'\n",
        "# Load dataset\n",
        "day_df = pd.read_csv(file_path)\n",
        "# menampilkan 5 baris pertama dari dataset\n",
        "print(day_df.head())"
      ]
    },
    {
      "cell_type": "markdown",
      "source": [
        "**A. Melakukan Load Pada** **Tabel** **Day**"
      ],
      "metadata": {
        "id": "53fs4SwBAsB3"
      }
    },
    {
      "cell_type": "markdown",
      "metadata": {
        "id": "FHSiqaZp8DC1"
      },
      "source": [
        "### Assessing Data"
      ]
    },
    {
      "cell_type": "markdown",
      "source": [
        "**1. Melakukan pengecekan tipe data Day**"
      ],
      "metadata": {
        "id": "BOhX6kOFB7vU"
      }
    },
    {
      "cell_type": "code",
      "source": [
        "day_df.info()"
      ],
      "metadata": {
        "id": "Bj1xXGf0CCpS",
        "outputId": "f34edfe5-6c7d-492a-e236-e2dc9c6c7106",
        "colab": {
          "base_uri": "https://localhost:8080/"
        }
      },
      "execution_count": null,
      "outputs": [
        {
          "output_type": "stream",
          "name": "stdout",
          "text": [
            "<class 'pandas.core.frame.DataFrame'>\n",
            "RangeIndex: 731 entries, 0 to 730\n",
            "Data columns (total 16 columns):\n",
            " #   Column      Non-Null Count  Dtype  \n",
            "---  ------      --------------  -----  \n",
            " 0   instant     731 non-null    int64  \n",
            " 1   dteday      731 non-null    object \n",
            " 2   season      731 non-null    int64  \n",
            " 3   yr          731 non-null    int64  \n",
            " 4   mnth        731 non-null    int64  \n",
            " 5   holiday     731 non-null    int64  \n",
            " 6   weekday     731 non-null    int64  \n",
            " 7   workingday  731 non-null    int64  \n",
            " 8   weathersit  731 non-null    int64  \n",
            " 9   temp        731 non-null    float64\n",
            " 10  atemp       731 non-null    float64\n",
            " 11  hum         731 non-null    float64\n",
            " 12  windspeed   731 non-null    float64\n",
            " 13  casual      731 non-null    int64  \n",
            " 14  registered  731 non-null    int64  \n",
            " 15  cnt         731 non-null    int64  \n",
            "dtypes: float64(4), int64(11), object(1)\n",
            "memory usage: 91.5+ KB\n"
          ]
        }
      ]
    },
    {
      "cell_type": "markdown",
      "source": [
        "Bisa kita lihat bahwa terdapat tipe data yang tidak sesuai yakni Data yang perlu diperbaiki adalah: dteday -> datetime"
      ],
      "metadata": {
        "id": "siJTKBt0C47J"
      }
    },
    {
      "cell_type": "markdown",
      "source": [
        "**2. Selanjutnya kita akan melakukan cek apakah terdapat missing values**"
      ],
      "metadata": {
        "id": "t0GqfUmdEHM_"
      }
    },
    {
      "cell_type": "code",
      "source": [
        "missing_values = day_df.isnull().sum()\n",
        "print(missing_values)"
      ],
      "metadata": {
        "id": "YljYj-PxE3q4",
        "outputId": "6069833c-fe02-4fa1-a313-aff339e8e199",
        "colab": {
          "base_uri": "https://localhost:8080/"
        }
      },
      "execution_count": null,
      "outputs": [
        {
          "output_type": "stream",
          "name": "stdout",
          "text": [
            "instant       0\n",
            "dteday        0\n",
            "season        0\n",
            "yr            0\n",
            "mnth          0\n",
            "holiday       0\n",
            "weekday       0\n",
            "workingday    0\n",
            "weathersit    0\n",
            "temp          0\n",
            "atemp         0\n",
            "hum           0\n",
            "windspeed     0\n",
            "casual        0\n",
            "registered    0\n",
            "cnt           0\n",
            "dtype: int64\n"
          ]
        }
      ]
    },
    {
      "cell_type": "markdown",
      "source": [
        "Disini kita tidak menemukan adanya missing value"
      ],
      "metadata": {
        "id": "Qsth3E-IFiiD"
      }
    },
    {
      "cell_type": "markdown",
      "source": [
        "**3. Melakukan cek ,apakah terdapat dupikasi data**"
      ],
      "metadata": {
        "id": "5GvpS3-dF6qC"
      }
    },
    {
      "cell_type": "code",
      "source": [
        "# Memeriksa duplikasi\n",
        "duplicates = day_df.duplicated()\n",
        "# Menampilkan jumlah baris yang duplikat\n",
        "print(\"Jumlah baris yang duplikat:\", duplicates.sum())\n"
      ],
      "metadata": {
        "id": "VEKs7HE_GFZW",
        "outputId": "c200d42a-87e9-4465-d69c-952a22fb99ce",
        "colab": {
          "base_uri": "https://localhost:8080/"
        }
      },
      "execution_count": null,
      "outputs": [
        {
          "output_type": "stream",
          "name": "stdout",
          "text": [
            "Jumlah baris yang duplikat: 0\n"
          ]
        }
      ]
    },
    {
      "cell_type": "markdown",
      "source": [
        "Bisa kita lihat bahwa tidak terdapat indikasi duplikasi data"
      ],
      "metadata": {
        "id": "rrNM0-PVGgEe"
      }
    },
    {
      "cell_type": "markdown",
      "source": [
        "**4. Selanjutnya kita melakukan cek apakah ada keanehan pada ringkasan statistik pada data ini**"
      ],
      "metadata": {
        "id": "kS2Bk1hfGpCI"
      }
    },
    {
      "cell_type": "code",
      "source": [
        "# Menggunakan describe() untuk mendapatkan ringkasan statistik\n",
        "summary = day_df.describe()\n",
        "# Menampilkan ringkasan statistik\n",
        "print(summary)"
      ],
      "metadata": {
        "id": "MqB8bsXxHGOl",
        "outputId": "4ea4957c-df94-4834-ca38-43e621610a41",
        "colab": {
          "base_uri": "https://localhost:8080/"
        }
      },
      "execution_count": null,
      "outputs": [
        {
          "output_type": "stream",
          "name": "stdout",
          "text": [
            "          instant      season          yr        mnth     holiday     weekday  \\\n",
            "count  731.000000  731.000000  731.000000  731.000000  731.000000  731.000000   \n",
            "mean   366.000000    2.496580    0.500684    6.519836    0.028728    2.997264   \n",
            "std    211.165812    1.110807    0.500342    3.451913    0.167155    2.004787   \n",
            "min      1.000000    1.000000    0.000000    1.000000    0.000000    0.000000   \n",
            "25%    183.500000    2.000000    0.000000    4.000000    0.000000    1.000000   \n",
            "50%    366.000000    3.000000    1.000000    7.000000    0.000000    3.000000   \n",
            "75%    548.500000    3.000000    1.000000   10.000000    0.000000    5.000000   \n",
            "max    731.000000    4.000000    1.000000   12.000000    1.000000    6.000000   \n",
            "\n",
            "       workingday  weathersit        temp       atemp         hum   windspeed  \\\n",
            "count  731.000000  731.000000  731.000000  731.000000  731.000000  731.000000   \n",
            "mean     0.683995    1.395349    0.495385    0.474354    0.627894    0.190486   \n",
            "std      0.465233    0.544894    0.183051    0.162961    0.142429    0.077498   \n",
            "min      0.000000    1.000000    0.059130    0.079070    0.000000    0.022392   \n",
            "25%      0.000000    1.000000    0.337083    0.337842    0.520000    0.134950   \n",
            "50%      1.000000    1.000000    0.498333    0.486733    0.626667    0.180975   \n",
            "75%      1.000000    2.000000    0.655417    0.608602    0.730209    0.233214   \n",
            "max      1.000000    3.000000    0.861667    0.840896    0.972500    0.507463   \n",
            "\n",
            "            casual   registered          cnt  \n",
            "count   731.000000   731.000000   731.000000  \n",
            "mean    848.176471  3656.172367  4504.348837  \n",
            "std     686.622488  1560.256377  1937.211452  \n",
            "min       2.000000    20.000000    22.000000  \n",
            "25%     315.500000  2497.000000  3152.000000  \n",
            "50%     713.000000  3662.000000  4548.000000  \n",
            "75%    1096.000000  4776.500000  5956.000000  \n",
            "max    3410.000000  6946.000000  8714.000000  \n"
          ]
        }
      ]
    },
    {
      "cell_type": "markdown",
      "source": [
        "Bisa kita lihat bahwa tidak terdapat sebuah keanehan pada data statistik ini"
      ],
      "metadata": {
        "id": "PCEVF6QjHSXQ"
      }
    },
    {
      "cell_type": "markdown",
      "source": [
        "**B. Melakukan Load Pada** **Tabel** **Hour**"
      ],
      "metadata": {
        "id": "z7CEP8c4Kl2z"
      }
    },
    {
      "cell_type": "code",
      "source": [
        "# Load hour dataset\n",
        "hr_df = pd.read_csv(file_path)\n",
        "# Menampilkan 5 baris pertama dari dataset\n",
        "print(hr_df.head())"
      ],
      "metadata": {
        "colab": {
          "base_uri": "https://localhost:8080/"
        },
        "id": "VxQtXtmaK8MF",
        "outputId": "323468ab-454e-4597-df81-0cce4479f1bf"
      },
      "execution_count": null,
      "outputs": [
        {
          "output_type": "stream",
          "name": "stdout",
          "text": [
            "   instant      dteday  season  yr  mnth  holiday  weekday  workingday  \\\n",
            "0        1  2011-01-01       1   0     1        0        6           0   \n",
            "1        2  2011-01-02       1   0     1        0        0           0   \n",
            "2        3  2011-01-03       1   0     1        0        1           1   \n",
            "3        4  2011-01-04       1   0     1        0        2           1   \n",
            "4        5  2011-01-05       1   0     1        0        3           1   \n",
            "\n",
            "   weathersit      temp     atemp       hum  windspeed  casual  registered  \\\n",
            "0           2  0.344167  0.363625  0.805833   0.160446     331         654   \n",
            "1           2  0.363478  0.353739  0.696087   0.248539     131         670   \n",
            "2           1  0.196364  0.189405  0.437273   0.248309     120        1229   \n",
            "3           1  0.200000  0.212122  0.590435   0.160296     108        1454   \n",
            "4           1  0.226957  0.229270  0.436957   0.186900      82        1518   \n",
            "\n",
            "    cnt  \n",
            "0   985  \n",
            "1   801  \n",
            "2  1349  \n",
            "3  1562  \n",
            "4  1600  \n"
          ]
        }
      ]
    },
    {
      "cell_type": "markdown",
      "source": [
        "**1. Melakukan cek info pada data hour**"
      ],
      "metadata": {
        "id": "zb8Njq6AOEte"
      }
    },
    {
      "cell_type": "code",
      "source": [
        "hr_df.info()"
      ],
      "metadata": {
        "colab": {
          "base_uri": "https://localhost:8080/"
        },
        "id": "v8azDZ_mONb5",
        "outputId": "04c7329c-fb53-468c-d418-0e11a2ebe20e"
      },
      "execution_count": null,
      "outputs": [
        {
          "output_type": "stream",
          "name": "stdout",
          "text": [
            "<class 'pandas.core.frame.DataFrame'>\n",
            "RangeIndex: 731 entries, 0 to 730\n",
            "Data columns (total 16 columns):\n",
            " #   Column      Non-Null Count  Dtype  \n",
            "---  ------      --------------  -----  \n",
            " 0   instant     731 non-null    int64  \n",
            " 1   dteday      731 non-null    object \n",
            " 2   season      731 non-null    int64  \n",
            " 3   yr          731 non-null    int64  \n",
            " 4   mnth        731 non-null    int64  \n",
            " 5   holiday     731 non-null    int64  \n",
            " 6   weekday     731 non-null    int64  \n",
            " 7   workingday  731 non-null    int64  \n",
            " 8   weathersit  731 non-null    int64  \n",
            " 9   temp        731 non-null    float64\n",
            " 10  atemp       731 non-null    float64\n",
            " 11  hum         731 non-null    float64\n",
            " 12  windspeed   731 non-null    float64\n",
            " 13  casual      731 non-null    int64  \n",
            " 14  registered  731 non-null    int64  \n",
            " 15  cnt         731 non-null    int64  \n",
            "dtypes: float64(4), int64(11), object(1)\n",
            "memory usage: 91.5+ KB\n"
          ]
        }
      ]
    },
    {
      "cell_type": "markdown",
      "source": [
        "Bisa kita lihat bahwa terdapat tipe data yang tidak sesuai yakni Data yang perlu diperbaiki adalah: dteday -> datetime"
      ],
      "metadata": {
        "id": "0JsmvIsFO4Ea"
      }
    },
    {
      "cell_type": "markdown",
      "source": [
        "**2. Selanjutnya kita akan melakukan cek apakah terdapat missing values**"
      ],
      "metadata": {
        "id": "GH824-Q8PBmo"
      }
    },
    {
      "cell_type": "code",
      "source": [
        "missing_values = hr_df.isnull().sum()\n",
        "print(missing_values)"
      ],
      "metadata": {
        "colab": {
          "base_uri": "https://localhost:8080/"
        },
        "id": "mYWW-ZY5PDBX",
        "outputId": "f8af7bf4-6147-4da7-cf4b-93d2b9a3521f"
      },
      "execution_count": null,
      "outputs": [
        {
          "output_type": "stream",
          "name": "stdout",
          "text": [
            "instant       0\n",
            "dteday        0\n",
            "season        0\n",
            "yr            0\n",
            "mnth          0\n",
            "holiday       0\n",
            "weekday       0\n",
            "workingday    0\n",
            "weathersit    0\n",
            "temp          0\n",
            "atemp         0\n",
            "hum           0\n",
            "windspeed     0\n",
            "casual        0\n",
            "registered    0\n",
            "cnt           0\n",
            "dtype: int64\n"
          ]
        }
      ]
    },
    {
      "cell_type": "markdown",
      "source": [
        "Disini kita tidak menemukan adanya missing value"
      ],
      "metadata": {
        "id": "jFXshkIiPWiA"
      }
    },
    {
      "cell_type": "markdown",
      "source": [
        "**3. Melakukan cek ,apakah terdapat dupikasi data**"
      ],
      "metadata": {
        "id": "DpRWD2wZPn5g"
      }
    },
    {
      "cell_type": "code",
      "source": [
        "# Memeriksa duplikasi\n",
        "duplicates = hr_df.duplicated()\n",
        "# Menampilkan jumlah baris yang duplikat\n",
        "print(\"Jumlah baris yang duplikat:\", duplicates.sum())"
      ],
      "metadata": {
        "colab": {
          "base_uri": "https://localhost:8080/"
        },
        "id": "xE-8QoISPhMQ",
        "outputId": "d06a4632-791e-4915-f0e7-6569ee50988e"
      },
      "execution_count": null,
      "outputs": [
        {
          "output_type": "stream",
          "name": "stdout",
          "text": [
            "Jumlah baris yang duplikat: 0\n"
          ]
        }
      ]
    },
    {
      "cell_type": "markdown",
      "source": [
        "Bisa kita lihat bahwa tidak terdapat indikasi duplikasi data"
      ],
      "metadata": {
        "id": "2SHhH4f4PwFh"
      }
    },
    {
      "cell_type": "markdown",
      "source": [
        "**4. Sama seperti sebelumnya ,Selanjutnya kita melakukan cek apakah ada keanehan pada ringkasan statistik pada data ini**"
      ],
      "metadata": {
        "id": "I78D-ZcKQBGw"
      }
    },
    {
      "cell_type": "code",
      "source": [
        "# Menggunakan describe() untuk mendapatkan ringkasan statistik\n",
        "summary = hr_df.describe()\n",
        "# Menampilkan ringkasan statistik\n",
        "print(summary)"
      ],
      "metadata": {
        "colab": {
          "base_uri": "https://localhost:8080/"
        },
        "id": "sOidZKo_QO4a",
        "outputId": "ada3820a-c853-4eb8-d15b-eb07f0b11d73"
      },
      "execution_count": null,
      "outputs": [
        {
          "output_type": "stream",
          "name": "stdout",
          "text": [
            "          instant      season          yr        mnth     holiday     weekday  \\\n",
            "count  731.000000  731.000000  731.000000  731.000000  731.000000  731.000000   \n",
            "mean   366.000000    2.496580    0.500684    6.519836    0.028728    2.997264   \n",
            "std    211.165812    1.110807    0.500342    3.451913    0.167155    2.004787   \n",
            "min      1.000000    1.000000    0.000000    1.000000    0.000000    0.000000   \n",
            "25%    183.500000    2.000000    0.000000    4.000000    0.000000    1.000000   \n",
            "50%    366.000000    3.000000    1.000000    7.000000    0.000000    3.000000   \n",
            "75%    548.500000    3.000000    1.000000   10.000000    0.000000    5.000000   \n",
            "max    731.000000    4.000000    1.000000   12.000000    1.000000    6.000000   \n",
            "\n",
            "       workingday  weathersit        temp       atemp         hum   windspeed  \\\n",
            "count  731.000000  731.000000  731.000000  731.000000  731.000000  731.000000   \n",
            "mean     0.683995    1.395349    0.495385    0.474354    0.627894    0.190486   \n",
            "std      0.465233    0.544894    0.183051    0.162961    0.142429    0.077498   \n",
            "min      0.000000    1.000000    0.059130    0.079070    0.000000    0.022392   \n",
            "25%      0.000000    1.000000    0.337083    0.337842    0.520000    0.134950   \n",
            "50%      1.000000    1.000000    0.498333    0.486733    0.626667    0.180975   \n",
            "75%      1.000000    2.000000    0.655417    0.608602    0.730209    0.233214   \n",
            "max      1.000000    3.000000    0.861667    0.840896    0.972500    0.507463   \n",
            "\n",
            "            casual   registered          cnt  \n",
            "count   731.000000   731.000000   731.000000  \n",
            "mean    848.176471  3656.172367  4504.348837  \n",
            "std     686.622488  1560.256377  1937.211452  \n",
            "min       2.000000    20.000000    22.000000  \n",
            "25%     315.500000  2497.000000  3152.000000  \n",
            "50%     713.000000  3662.000000  4548.000000  \n",
            "75%    1096.000000  4776.500000  5956.000000  \n",
            "max    3410.000000  6946.000000  8714.000000  \n"
          ]
        }
      ]
    },
    {
      "cell_type": "markdown",
      "source": [
        "**Baik ,saya sudah melakukan pengecekan pada dataset dataset yang tersedia ,sebelum saya melakukan cleaning pada data ,disini saya menemukan bahwa terdapat kolom hr dalam dataset yang berbasis jam (hourly data), yang tidak muncul pada dataset berbasis harian (daily data).**"
      ],
      "metadata": {
        "id": "90m2GRVxCVfQ"
      }
    },
    {
      "cell_type": "markdown",
      "metadata": {
        "id": "EhN5R4hr8DC1"
      },
      "source": [
        "### Cleaning Data"
      ]
    },
    {
      "cell_type": "markdown",
      "source": [
        "Oke pada tahap cleaning ini pertama-tama saya akan melakukan penghapusan kolom kolom yang tidak saya gunakan ,hal ini bertujuan untuk mempermudah pengelolaan data ,agar saya mudah mendapatkan informasi yang relavan ,sesuai pertanyaan yang sudah didefinisikan sebelumnya."
      ],
      "metadata": {
        "id": "h3ocovqPFw-z"
      }
    },
    {
      "cell_type": "code",
      "source": [
        "# Daftar kolom yang tidak diperlukan\n",
        "kolom_tidak_perlu = ['dteday', 'yr', 'mnth']\n",
        "# Menghapus kolom yang tidak diperlukan\n",
        "hr_df_cleaned = hr_df.drop(columns=kolom_tidak_perlu)\n",
        "# Menampilkan 5 baris pertama dari dataset setelah kolom-kolom dihapus\n",
        "print(hr_df_cleaned.head())\n"
      ],
      "metadata": {
        "id": "jVnYpprE9Evz",
        "colab": {
          "base_uri": "https://localhost:8080/"
        },
        "outputId": "5ab8273f-3cf1-4d3e-8095-551d82e111d7"
      },
      "execution_count": null,
      "outputs": [
        {
          "output_type": "stream",
          "name": "stdout",
          "text": [
            "   instant  season  holiday  weekday  workingday  weathersit      temp  \\\n",
            "0        1       1        0        6           0           2  0.344167   \n",
            "1        2       1        0        0           0           2  0.363478   \n",
            "2        3       1        0        1           1           1  0.196364   \n",
            "3        4       1        0        2           1           1  0.200000   \n",
            "4        5       1        0        3           1           1  0.226957   \n",
            "\n",
            "      atemp       hum  windspeed  casual  registered   cnt  \n",
            "0  0.363625  0.805833   0.160446     331         654   985  \n",
            "1  0.353739  0.696087   0.248539     131         670   801  \n",
            "2  0.189405  0.437273   0.248309     120        1229  1349  \n",
            "3  0.212122  0.590435   0.160296     108        1454  1562  \n",
            "4  0.229270  0.436957   0.186900      82        1518  1600  \n"
          ]
        }
      ]
    },
    {
      "cell_type": "code",
      "source": [
        "print(hr_df_cleaned.describe())"
      ],
      "metadata": {
        "colab": {
          "base_uri": "https://localhost:8080/"
        },
        "id": "vRO8W21DtG6-",
        "outputId": "27c39df4-63d2-408f-ebad-b7bc0621e4ff"
      },
      "execution_count": null,
      "outputs": [
        {
          "output_type": "stream",
          "name": "stdout",
          "text": [
            "          instant      season     holiday  workingday  weathersit        temp  \\\n",
            "count  731.000000  731.000000  731.000000  731.000000  731.000000  731.000000   \n",
            "mean   366.000000    2.496580    0.028728    0.683995    1.395349    0.495385   \n",
            "std    211.165812    1.110807    0.167155    0.465233    0.544894    0.183051   \n",
            "min      1.000000    1.000000    0.000000    0.000000    1.000000    0.059130   \n",
            "25%    183.500000    2.000000    0.000000    0.000000    1.000000    0.337083   \n",
            "50%    366.000000    3.000000    0.000000    1.000000    1.000000    0.498333   \n",
            "75%    548.500000    3.000000    0.000000    1.000000    2.000000    0.655417   \n",
            "max    731.000000    4.000000    1.000000    1.000000    3.000000    0.861667   \n",
            "\n",
            "            atemp         hum   windspeed       casual   registered  \\\n",
            "count  731.000000  731.000000  731.000000   731.000000   731.000000   \n",
            "mean     0.474354    0.627894    0.190486   848.176471  3656.172367   \n",
            "std      0.162961    0.142429    0.077498   686.622488  1560.256377   \n",
            "min      0.079070    0.000000    0.022392     2.000000    20.000000   \n",
            "25%      0.337842    0.520000    0.134950   315.500000  2497.000000   \n",
            "50%      0.486733    0.626667    0.180975   713.000000  3662.000000   \n",
            "75%      0.608602    0.730209    0.233214  1096.000000  4776.500000   \n",
            "max      0.840896    0.972500    0.507463  3410.000000  6946.000000   \n",
            "\n",
            "               cnt  hari_kerja  \n",
            "count   731.000000         0.0  \n",
            "mean   4504.348837         NaN  \n",
            "std    1937.211452         NaN  \n",
            "min      22.000000         NaN  \n",
            "25%    3152.000000         NaN  \n",
            "50%    4548.000000         NaN  \n",
            "75%    5956.000000         NaN  \n",
            "max    8714.000000         NaN  \n"
          ]
        }
      ]
    },
    {
      "cell_type": "markdown",
      "source": [
        "Saya akan mengubah kolom weekday yang tadinya numerik 0-6 menjadi  kategorikal senin-minggu begitu juga dengan weathersit"
      ],
      "metadata": {
        "id": "x7BZqLIjKn1E"
      }
    },
    {
      "cell_type": "code",
      "source": [
        "\n",
        "hr_df_cleaned['weekday'] = hr_df_cleaned['weekday'].replace({\n",
        "    0: 'Sunday',\n",
        "    1: 'Monday',\n",
        "    2: 'Tuesday',\n",
        "    3: 'Wednesday',\n",
        "    4: 'Thursday',\n",
        "    5: 'Friday',\n",
        "    6: 'Saturday'\n",
        "})\n",
        "\n",
        "hr_df_cleaned['weathersit'] = hr_df_cleaned['weathersit'].replace({\n",
        "    1: 'Clear',\n",
        "    2: 'Partly Cloudy',\n",
        "    3: 'Light Rain',\n",
        "    4: 'Heavy Rain'\n",
        "})\n",
        "\n",
        "\n",
        "\n"
      ],
      "metadata": {
        "id": "QVd1zq_6LAkt"
      },
      "execution_count": null,
      "outputs": []
    },
    {
      "cell_type": "markdown",
      "source": [
        "Setelah cleaning daata selanjutnya saya akan melakukan ekplorasi data"
      ],
      "metadata": {
        "id": "UbdZ3XCZtZmn"
      }
    },
    {
      "cell_type": "markdown",
      "metadata": {
        "id": "gp-Y6wU38DC1"
      },
      "source": [
        "## Exploratory Data Analysis (EDA)"
      ]
    },
    {
      "cell_type": "markdown",
      "metadata": {
        "id": "MW7WF2kr8DC1"
      },
      "source": [
        "### 1. Kelompokkan data berdasarkan hari dalam seminggu dari dataset yang sudah dibersihkan"
      ]
    },
    {
      "cell_type": "code",
      "execution_count": null,
      "metadata": {
        "id": "e9CQCZjk8DC2",
        "colab": {
          "base_uri": "https://localhost:8080/"
        },
        "outputId": "f8c4545e-271f-4edc-cb0f-ad4703dd34bb"
      },
      "outputs": [
        {
          "output_type": "stream",
          "name": "stdout",
          "text": [
            "     weekday       casual   registered          cnt\n",
            "0     Friday   752.288462  3938.000000  4690.288462\n",
            "1     Monday   674.133333  3663.990476  4338.123810\n",
            "2   Saturday  1465.257143  3085.285714  4550.542857\n",
            "3     Sunday  1338.295238  2890.533333  4228.828571\n",
            "4   Thursday   590.961538  4076.298077  4667.259615\n",
            "5    Tuesday   556.182692  3954.480769  4510.663462\n",
            "6  Wednesday   551.144231  3997.394231  4548.538462\n"
          ]
        }
      ],
      "source": [
        "# Kelompokkan data berdasarkan hari dalam seminggu dari dataset hour yang sudah dibersihkan\n",
        "grouped_data_hour = hr_df_cleaned.groupby('weekday').agg({\n",
        "    'casual': 'mean',\n",
        "    'registered': 'mean',\n",
        "    'cnt': 'mean'\n",
        "}).reset_index()\n",
        "\n",
        "# Tampilkan data hasil pengelompokan\n",
        "print(grouped_data_hour)\n"
      ]
    },
    {
      "cell_type": "markdown",
      "source": [
        "Pada Data Ini dapat dilihat bahwa Pengguna kasual dan terdaftar memiliki pola penyewaan yang berbeda. Pengguna kasual cenderung lebih aktif menyewa sepeda pada akhir pekan, sementara pengguna terdaftar lebih banyak menyewa sepeda pada hari kerja.\n",
        "\n",
        "dalam hal ini Data menunjukkan variasi penyewaan sepeda berdasarkan hari dalam seminggu, dengan pengguna kasual mendominasi penyewaan di akhir pekan dan pengguna terdaftar lebih banyak menyewa di hari kerja.\n",
        "\n",
        "Dengan demikian, analisis ini memberikan wawasan penting tentang perilaku pengguna yang bisa dijadikan acuan untuk menjawab persoalan ***tentang Pola penyewaan sepeda antar pengguna***"
      ],
      "metadata": {
        "id": "mgCGZqwszT9Q"
      }
    },
    {
      "cell_type": "markdown",
      "source": [
        "###2. Mengelompokkan data berdasarkan hari dan jenis cuaca"
      ],
      "metadata": {
        "id": "S0-Uo1GyPMeJ"
      }
    },
    {
      "cell_type": "code",
      "source": [
        "# Mengelompokkan data berdasarkan hari dan jenis cuaca\n",
        "grouped_weather_weekday = hr_df_cleaned.groupby(['weekday', 'weathersit']).agg({\n",
        "    'casual': ['mean', 'max', 'min', 'sum'],\n",
        "    'registered': ['mean', 'max', 'min', 'sum'],\n",
        "    'cnt': ['mean', 'max', 'min', 'sum']\n",
        "}).reset_index()\n",
        "\n",
        "# Tampilkan data hasil pengelompokan\n",
        "print(grouped_weather_weekday)"
      ],
      "metadata": {
        "colab": {
          "base_uri": "https://localhost:8080/"
        },
        "id": "l09_5mTKPQ5W",
        "outputId": "3546ea6e-de23-4341-ebe0-6b2abbb76537"
      },
      "execution_count": null,
      "outputs": [
        {
          "output_type": "stream",
          "name": "stdout",
          "text": [
            "      weekday     weathersit       casual                      registered  \\\n",
            "                                     mean   max  min     sum         mean   \n",
            "0      Friday          Clear   865.952381  1807   54   54555  4212.730159   \n",
            "1      Friday  Partly Cloudy   577.634146  2469   38   23683  3515.853659   \n",
            "2      Monday          Clear   702.363636  2557   41   46356  3783.287879   \n",
            "3      Monday     Light Rain   111.000000   220    2     222  1282.500000   \n",
            "4      Monday  Partly Cloudy   654.216216  3065   42   24206  3579.918919   \n",
            "5    Saturday          Clear  1667.358209  3410   93  111713  3308.522388   \n",
            "6    Saturday     Light Rain   408.500000  1264   57    1634  1604.000000   \n",
            "7    Saturday  Partly Cloudy  1191.323529  3155   67   40505  2819.647059   \n",
            "8      Sunday          Clear  1396.270270  3283   54  103324  2952.202703   \n",
            "9      Sunday     Light Rain   120.000000   120  120     120   907.000000   \n",
            "10     Sunday  Partly Cloudy  1235.900000  2613  114   37077  2804.533333   \n",
            "11   Thursday          Clear   685.970149  1405   15   45960  4328.955224   \n",
            "12   Thursday     Light Rain   126.000000   179   46     378  1257.333333   \n",
            "13   Thursday  Partly Cloudy   444.764706  1008   74   15122  3827.147059   \n",
            "14    Tuesday          Clear   651.387097  1348   64   40386  4338.516129   \n",
            "15    Tuesday     Light Rain   178.500000   315   69     714  2709.000000   \n",
            "16    Tuesday  Partly Cloudy   440.605263  1278    9   16743  3459.000000   \n",
            "17  Wednesday          Clear   688.312500  2562   25   44052  4646.015625   \n",
            "18  Wednesday     Light Rain   118.142857   254    9     827  1354.000000   \n",
            "19  Wednesday  Partly Cloudy   376.969697  1263   53   12440  3300.181818   \n",
            "\n",
            "                                cnt                      \n",
            "     max   min     sum         mean   max   min     sum  \n",
            "0   6917  1367  265402  5078.682540  8167  1421  319957  \n",
            "1   6370  1129  144150  4093.487805  8362  1167  167833  \n",
            "2   6435   887  249697  4485.651515  7525  1317  296053  \n",
            "3   2545    20    2565  1393.500000  2765    22    2787  \n",
            "4   6015   746  132457  4234.135135  7013   920  156663  \n",
            "5   5966   856  221671  4975.880597  8714   981  333384  \n",
            "6   3195   570    6416  2012.500000  4459   627    8050  \n",
            "7   5209   654   95868  4010.970588  7852   959  136373  \n",
            "8   5657   451  218463  4348.472973  8227   754  321787  \n",
            "9    907   907     907  1027.000000  1027  1027    1027  \n",
            "10  4866   491   84136  4040.433333  7410   605  121213  \n",
            "11  6781   416  290040  5014.925373  7804   431  336000  \n",
            "12  1689   577    3772  1383.333333  1842   623    4150  \n",
            "13  6642  1699  130123  4271.911765  7509  1807  145245  \n",
            "14  6697  1376  268988  4989.903226  7767  1450  309374  \n",
            "15  4324  1538   10836  2887.500000  4639  1607   11550  \n",
            "16  6033   573  131442  3899.605263  7273   683  148185  \n",
            "17  6946  1137  297345  5334.328125  8173  1162  341397  \n",
            "18  2199   432    9478  1472.142857  2424   441   10305  \n",
            "19  6844  1368  108906  3677.151515  7572  1526  121346  \n"
          ]
        }
      ]
    },
    {
      "cell_type": "markdown",
      "source": [
        " Dari informasi diatas kita mendapatkan data yang menjelaskan variasi penyewaan sepeda berdasarkan hari dalam seminggu dan jenis cuaca. Data yang dihasilkan akan memberikan wawasan tentang bagaimana penyewaan sepeda bervariasi tergantung pada hari dan kondisi cuaca,"
      ],
      "metadata": {
        "id": "ao-uYofkP3Do"
      }
    },
    {
      "cell_type": "markdown",
      "source": [
        "###3. Mengelompokkan Data Penyewaan Berdasarkan Suhu, Kelembapan, dan Kecepatan Angin"
      ],
      "metadata": {
        "id": "QF0HUdSLgDXL"
      }
    },
    {
      "cell_type": "code",
      "source": [
        "# Mengelompokkan data berdasarkan suhu, kelembapan, dan kecepatan angin\n",
        "grouped_temp_hum_wind = hr_df_cleaned.groupby(['weekday','temp', 'hum', 'windspeed']).agg({\n",
        "    'casual': 'mean',\n",
        "    'registered': 'mean',\n",
        "    'cnt': 'mean'\n",
        "}).reset_index()\n",
        "\n",
        "# Tampilkan data hasil pengelompokan\n",
        "print(grouped_temp_hum_wind)\n"
      ],
      "metadata": {
        "colab": {
          "base_uri": "https://localhost:8080/"
        },
        "id": "bArvGsTOgIUr",
        "outputId": "e30b6646-fc6e-4e65-dbaf-118c49a13ddc"
      },
      "execution_count": null,
      "outputs": [
        {
          "output_type": "stream",
          "name": "stdout",
          "text": [
            "       weekday      temp       hum  windspeed  casual  registered     cnt\n",
            "0       Friday  0.160870  0.537826   0.126548    54.0      1367.0  1421.0\n",
            "1       Friday  0.177500  0.457083   0.353242    75.0      1468.0  1543.0\n",
            "2       Friday  0.189091  0.506364   0.108550   149.0      1597.0  1746.0\n",
            "3       Friday  0.196522  0.498696   0.168726   148.0      1362.0  1510.0\n",
            "4       Friday  0.203478  0.793043   0.123300    38.0      1129.0  1167.0\n",
            "..         ...       ...       ...        ...     ...         ...     ...\n",
            "726  Wednesday  0.775000  0.402917   0.183463   755.0      3901.0  4656.0\n",
            "727  Wednesday  0.775833  0.622083   0.136817   676.0      3725.0  4401.0\n",
            "728  Wednesday  0.782500  0.592083   0.113812   872.0      5339.0  6211.0\n",
            "729  Wednesday  0.789167  0.538750   0.134950  2562.0      4841.0  7403.0\n",
            "730  Wednesday  0.793333  0.577083   0.137442   799.0      4914.0  5713.0\n",
            "\n",
            "[731 rows x 7 columns]\n"
          ]
        }
      ]
    },
    {
      "cell_type": "markdown",
      "source": [
        "Data ini menunjukkan penyewaan sepeda berdasarkan hari, suhu, kelembapan, dan kecepatan angin. Setiap baris mencakup informasi tentang jumlah penyewaan untuk pengguna kasual dan terdaftar. Misalnya, ada data untuk hari Jumat dan Rabu dengan berbagai nilai suhu dan kelembapan. Dari data ini, kita bisa lihat bagaimana cuaca memengaruhi seberapa banyak orang menyewa sepeda di hari-hari tertentu."
      ],
      "metadata": {
        "id": "cuXMJVdynaSn"
      }
    },
    {
      "cell_type": "markdown",
      "source": [
        "###4. Mengelompokkan data Pola Penyewaan Sepeda Berdasarkan Musim"
      ],
      "metadata": {
        "id": "OEPqmQeOgFT0"
      }
    },
    {
      "cell_type": "code",
      "source": [
        "# Mengelompokkan data berdasarkan musim\n",
        "grouped_season = hr_df_cleaned.groupby('season').agg({\n",
        "    'casual': 'mean',\n",
        "    'registered': 'mean',\n",
        "    'cnt': 'mean'\n",
        "}).reset_index()\n",
        "\n",
        "# Tampilkan data hasil pengelompokan\n",
        "print(grouped_season)\n"
      ],
      "metadata": {
        "colab": {
          "base_uri": "https://localhost:8080/"
        },
        "id": "U2LDYSGth784",
        "outputId": "7a95a93d-33df-43f6-b77f-8bd5ac78a7a3"
      },
      "execution_count": null,
      "outputs": [
        {
          "output_type": "stream",
          "name": "stdout",
          "text": [
            "   season       casual   registered          cnt\n",
            "0       1   334.928177  2269.204420  2604.132597\n",
            "1       2  1106.097826  3886.233696  4992.331522\n",
            "2       3  1202.611702  4441.691489  5644.303191\n",
            "3       4   729.112360  3999.050562  4728.162921\n"
          ]
        }
      ]
    },
    {
      "cell_type": "markdown",
      "source": [
        "Data ini menunjukkan penyewaan sepeda berdasarkan musim. Setiap musim memiliki rata-rata jumlah penyewaan untuk pengguna kasual dan terdaftar. Misalnya, musim kedua dan ketiga menunjukkan angka penyewaan yang paling tinggi, dengan pengguna terdaftar menyewa lebih banyak dibandingkan pengguna kasual. Ini memberikan gambaran bahwa cuaca atau aktivitas di musim tertentu mempengaruhi minat orang untuk menyewa sepeda."
      ],
      "metadata": {
        "id": "SKgeQbVDn002"
      }
    },
    {
      "cell_type": "markdown",
      "source": [
        "###5. Mengelompokkan data Perbedaan Pola Penyewaan Antara Hari Kerja dan Hari Libur"
      ],
      "metadata": {
        "id": "B8xpJJS3gCWD"
      }
    },
    {
      "cell_type": "code",
      "source": [
        "# Mengelompokkan data berdasarkan hari kerja\n",
        "grouped_workingday = hr_df_cleaned.groupby('workingday').agg({\n",
        "    'casual': 'mean',\n",
        "    'registered': 'mean',\n",
        "    'cnt': 'mean'\n",
        "}).reset_index()\n",
        "\n",
        "# Tampilkan data hasil pengelompokan\n",
        "print(grouped_workingday)\n"
      ],
      "metadata": {
        "colab": {
          "base_uri": "https://localhost:8080/"
        },
        "id": "SuRDSIBgi9Ic",
        "outputId": "cf4e1d06-741d-4ab2-ce97-9b2fcd2b4e54"
      },
      "execution_count": null,
      "outputs": [
        {
          "output_type": "stream",
          "name": "stdout",
          "text": [
            "   workingday       casual   registered          cnt\n",
            "0           0  1371.134199  2959.034632  4330.168831\n",
            "1           1   606.570000  3978.250000  4584.820000\n"
          ]
        }
      ]
    },
    {
      "cell_type": "markdown",
      "source": [
        "\n",
        "kalo data ini menggambarkan pola penyewaan sepeda berdasarkan status hari kerja (working day). Pada hari kerja (working day = 1), jumlah penyewaan sepeda oleh pengguna terdaftar jauh lebih tinggi dibandingkan dengan pengguna kasual, dengan total penyewaan mencapai sekitar 4585."
      ],
      "metadata": {
        "id": "iV8WAbl_oVXj"
      }
    },
    {
      "cell_type": "markdown",
      "source": [
        "###6. Mengelompokkan data Pengaruh Cuaca Terhadap Perbedaan Jumlah Penyewaan"
      ],
      "metadata": {
        "id": "JOTxRMaQgBgc"
      }
    },
    {
      "cell_type": "code",
      "source": [
        "# Mengelompokkan data berdasarkan cuaca\n",
        "grouped_weather = hr_df_cleaned.groupby('weathersit').agg({\n",
        "    'casual': 'mean',\n",
        "    'registered': 'mean',\n",
        "    'cnt': 'mean'\n",
        "}).reset_index()\n",
        "\n",
        "# Tampilkan data hasil pengelompokan\n",
        "print(grouped_weather)\n"
      ],
      "metadata": {
        "colab": {
          "base_uri": "https://localhost:8080/"
        },
        "id": "uI_aRm4mjB5O",
        "outputId": "8dded0fd-e9ea-45db-e2b8-b2a1f99762f3"
      },
      "execution_count": null,
      "outputs": [
        {
          "output_type": "stream",
          "name": "stdout",
          "text": [
            "      weathersit      casual   registered          cnt\n",
            "0          Clear  964.030238  3912.755940  4876.786177\n",
            "1     Light Rain  185.476190  1617.809524  1803.285714\n",
            "2  Partly Cloudy  687.352227  3348.510121  4035.862348\n"
          ]
        }
      ]
    },
    {
      "cell_type": "markdown",
      "source": [
        "didalam data ini menggambarkan pola penyewaan sepeda berdasarkan kondisi cuaca. Penyewaan paling tinggi terjadi saat cuaca cerah, sedangkan saat hujan ringan, jumlah penyewaan turun secara signifikan. Cuaca yang lebih baik umumnya mendorong lebih banyak orang untuk menyewa sepeda."
      ],
      "metadata": {
        "id": "1pnA3SXtpPBy"
      }
    },
    {
      "cell_type": "markdown",
      "metadata": {
        "id": "zsyZjqak8DC2"
      },
      "source": [
        "## Visualization & Explanatory Analysis"
      ]
    },
    {
      "cell_type": "markdown",
      "metadata": {
        "id": "HZxOiQ6n8DC2"
      },
      "source": [
        "### Pertanyaan 1:  Bagaimana pola penyewaan sepeda antara pengguna terdaftar dan pengguna kasual?\n"
      ]
    },
    {
      "cell_type": "code",
      "source": [
        "\n",
        "# Data\n",
        "data = {\n",
        "    'weekday': ['Friday', 'Monday', 'Saturday', 'Sunday', 'Thursday', 'Tuesday', 'Wednesday'],\n",
        "    'casual': [752.29, 674.13, 1465.26, 1338.30, 590.96, 556.18, 551.14],\n",
        "    'registered': [3938.00, 3663.99, 3085.29, 2890.53, 4076.30, 3954.48, 3997.39]\n",
        "}\n",
        "\n",
        "df = pd.DataFrame(data)\n",
        "\n",
        "# Mengatur lebar bar\n",
        "bar_width = 0.35\n",
        "index = range(len(df))\n",
        "\n",
        "# Membuat grafik batang\n",
        "plt.figure(figsize=(10, 6))\n",
        "bar1 = plt.bar(index, df['casual'], bar_width, label='Pengguna Kasual', color='lightblue')\n",
        "bar2 = plt.bar([i + bar_width for i in index], df['registered'], bar_width, label='Pengguna Terdaftar', color='salmon')\n",
        "\n",
        "# Menambahkan label dan judul\n",
        "plt.xlabel('Hari')\n",
        "plt.ylabel('Jumlah Penyewaan')\n",
        "plt.title('Pola Penyewaan Sepeda antara Pengguna Kasual dan Terdaftar')\n",
        "plt.xticks([i + bar_width / 2 for i in index], df['weekday'])\n",
        "plt.legend()\n",
        "plt.tight_layout()\n",
        "plt.show()\n"
      ],
      "metadata": {
        "colab": {
          "base_uri": "https://localhost:8080/",
          "height": 607
        },
        "id": "hJZJ4Ushq2Y6",
        "outputId": "151fca0f-4d8c-4b23-b25a-d54625a5b7a4"
      },
      "execution_count": null,
      "outputs": [
        {
          "output_type": "display_data",
          "data": {
            "text/plain": [
              "<Figure size 1000x600 with 1 Axes>"
            ],
            "image/png": "[encoded data removed]"
          },
          "metadata": {}
        }
      ]
    },
    {
      "cell_type": "markdown",
      "source": [
        "Grafik di atas menunjukkan pola penyewaan sepeda antara pengguna terdaftar dan pengguna kasual berdasarkan hari dalam seminggu. Dari visualisasi, terlihat bahwa pengguna terdaftar umumnya menyewa sepeda dengan jumlah yang lebih tinggi dibandingkan pengguna kasual pada setiap hari.\n",
        "- Hari Sabtu mencatat jumlah penyewaan tertinggi untuk pengguna kasual,\n",
        "- Hari Jumat juga menunjukkan angka penyewaan yang tinggi untuk kedua kategori, menandakan bahwa banyak orang mungkin menyewa sepeda untuk bersantai sebelum akhir pekan.\n",
        "- pengguna terdaftar menunjukkan konsistensi yang lebih tinggi dalam penyewaan disepanjang minggu,"
      ],
      "metadata": {
        "id": "LtkvZphUsVE_"
      }
    },
    {
      "cell_type": "markdown",
      "source": [
        "### Pertanyaan 2: Bagaimana variasi penyewaan sepeda berdasarkan hari dalam seminggu dan jenis cuaca?\n"
      ],
      "metadata": {
        "id": "Cfcc7Besp-5v"
      }
    },
    {
      "cell_type": "code",
      "source": [
        "# Data\n",
        "data = {\n",
        "    'weekday': ['Friday', 'Friday', 'Monday', 'Monday', 'Monday', 'Saturday', 'Saturday', 'Saturday',\n",
        "                'Sunday', 'Sunday', 'Sunday', 'Thursday', 'Thursday', 'Thursday', 'Tuesday', 'Tuesday',\n",
        "                'Tuesday', 'Wednesday', 'Wednesday', 'Wednesday'],\n",
        "    'weathersit': ['Clear', 'Partly Cloudy', 'Clear', 'Light Rain', 'Partly Cloudy', 'Clear', 'Light Rain',\n",
        "                   'Partly Cloudy', 'Clear', 'Light Rain', 'Partly Cloudy', 'Clear', 'Light Rain',\n",
        "                   'Partly Cloudy', 'Clear', 'Light Rain', 'Partly Cloudy', 'Clear', 'Light Rain', 'Partly Cloudy'],\n",
        "    'cnt_mean': [5078.68, 4093.49, 4485.65, 1393.5, 4234.14, 4975.88, 2012.5, 4010.97, 4348.47,\n",
        "                 1027.0, 4040.43, 5014.93, 1383.33, 4271.91, 4989.9, 2887.5, 3899.6, 5334.33,\n",
        "                 1472.14, 3677.15]\n",
        "}\n",
        "\n",
        "df = pd.DataFrame(data)\n",
        "\n",
        "# Membuat visualisasi\n",
        "plt.figure(figsize=(12, 6))\n",
        "sns.barplot(x='weekday', y='cnt_mean', hue='weathersit', data=df, palette='viridis')\n",
        "plt.title('Variasi Penyewaan Sepeda Berdasarkan Hari dan Jenis Cuaca')\n",
        "plt.xlabel('Hari')\n",
        "plt.ylabel('Rata-rata Jumlah Penyewaan')\n",
        "plt.legend(title='Jenis Cuaca')\n",
        "plt.xticks(rotation=45)\n",
        "plt.tight_layout()\n",
        "plt.show()"
      ],
      "metadata": {
        "colab": {
          "base_uri": "https://localhost:8080/",
          "height": 731
        },
        "id": "7aJiv913q1to",
        "outputId": "3925da2c-4274-4b74-8111-30cb55abde04"
      },
      "execution_count": null,
      "outputs": [
        {
          "output_type": "stream",
          "name": "stderr",
          "text": [
            "/usr/local/lib/python3.10/dist-packages/seaborn/_base.py:949: FutureWarning: When grouping with a length-1 list-like, you will need to pass a length-1 tuple to get_group in a future version of pandas. Pass `(name,)` instead of `name` to silence this warning.\n",
            "  data_subset = grouped_data.get_group(pd_key)\n",
            "/usr/local/lib/python3.10/dist-packages/seaborn/_base.py:949: FutureWarning: When grouping with a length-1 list-like, you will need to pass a length-1 tuple to get_group in a future version of pandas. Pass `(name,)` instead of `name` to silence this warning.\n",
            "  data_subset = grouped_data.get_group(pd_key)\n",
            "/usr/local/lib/python3.10/dist-packages/seaborn/_base.py:949: FutureWarning: When grouping with a length-1 list-like, you will need to pass a length-1 tuple to get_group in a future version of pandas. Pass `(name,)` instead of `name` to silence this warning.\n",
            "  data_subset = grouped_data.get_group(pd_key)\n"
          ]
        },
        {
          "output_type": "display_data",
          "data": {
            "text/plain": [
              "<Figure size 1200x600 with 1 Axes>"
            ],
            "image/png": "[encoded data removed]"
          },
          "metadata": {}
        }
      ]
    },
    {
      "cell_type": "markdown",
      "source": [
        "Grafik di atas menggambarkan variasi penyewaan sepeda berdasarkan hari dalam seminggu dan jenis cuaca. Beberapa pola yang bisa diidentifikasi antara lain:\n",
        "- Cuaca Cerah: Penyewaan sepeda cenderung tinggi pada semua hari ketika cuaca cerah.\n",
        "- Hujan Ringan: Penyewaan sepeda menurun drastis ketika terjadi hujan ringan,\n",
        "- Cuaca Berawan Sebagian: Pada hari seperti Sabtu dan Minggu, meskipun tidak setinggi cuaca cerah, penyewaan sepeda saat cuaca berawan sebagian masih tetap cukup tinggi."
      ],
      "metadata": {
        "id": "1eO2kUY4txIA"
      }
    },
    {
      "cell_type": "markdown",
      "source": [
        "### Pertanyaan 3: Bagaimana cara mengelompokkan data penyewaan berdasarkan suhu, kelembapan, dan kecepatan angin untuk memahami pola penyewaan sepeda?\n"
      ],
      "metadata": {
        "id": "cs59HDptqFYS"
      }
    },
    {
      "cell_type": "code",
      "source": [
        "\n",
        "# Dataframe dengan data penyewaan sepeda\n",
        "data = {\n",
        "    'weekday': ['Friday', 'Friday', 'Friday', 'Friday', 'Friday',\n",
        "                'Wednesday', 'Wednesday', 'Wednesday', 'Wednesday', 'Wednesday'],\n",
        "    'temp': [0.160870, 0.177500, 0.189091, 0.196522, 0.203478,\n",
        "             0.775000, 0.775833, 0.782500, 0.789167, 0.793333],\n",
        "    'hum': [0.537826, 0.457083, 0.506364, 0.498696, 0.793043,\n",
        "            0.402917, 0.622083, 0.592083, 0.538750, 0.577083],\n",
        "    'windspeed': [0.126548, 0.353242, 0.108550, 0.168726, 0.123300,\n",
        "                  0.183463, 0.136817, 0.113812, 0.134950, 0.137442],\n",
        "    'cnt': [1421.0, 1543.0, 1746.0, 1510.0, 1167.0,\n",
        "            4656.0, 4401.0, 6211.0, 7403.0, 5713.0]\n",
        "}\n",
        "\n",
        "df = pd.DataFrame(data)\n",
        "\n",
        "# Plot\n",
        "plt.figure(figsize=(10, 6))\n",
        "scatter = plt.scatter(df['temp'], df['hum'],\n",
        "                      s=df['cnt']*0.05,  # Ukuran lingkaran mewakili jumlah penyewaan (cnt)\n",
        "                      c=df['windspeed'], cmap='coolwarm', alpha=0.7)\n",
        "\n",
        "plt.colorbar(scatter, label='Windspeed')\n",
        "plt.title('Hubungan antara Suhu, Kelembapan, Kecepatan Angin dan Jumlah Penyewaan Sepeda')\n",
        "plt.xlabel('Temperature (Normalized)')\n",
        "plt.ylabel('Humidity (Normalized)')\n",
        "\n",
        "# Menampilkan plot\n",
        "plt.show()\n"
      ],
      "metadata": {
        "colab": {
          "base_uri": "https://localhost:8080/",
          "height": 573
        },
        "id": "LnS99tqeq0_f",
        "outputId": "80358cb0-f3fa-4f46-bf80-666a2b6ede29"
      },
      "execution_count": null,
      "outputs": [
        {
          "output_type": "display_data",
          "data": {
            "text/plain": [
              "<Figure size 1000x600 with 2 Axes>"
            ],
            "image/png": "[encoded data removed]"
          },
          "metadata": {}
        }
      ]
    },
    {
      "cell_type": "markdown",
      "source": [
        "- Ukuran lingkaran (s=df['cnt']*0.05) merepresentasikan jumlah total penyewaan sepeda.\n",
        "- Warna lingkaran mewakili kecepatan angin, dengan menggunakan palet warna \"coolwarm\".\n",
        "- Sumbu X menunjukkan suhu yang sudah dinormalisasi.\n",
        "- Sumbu Y menunjukkan kelembapan yang juga dinormalisasi.\n",
        "- Warna skala di sisi kanan mewakili kecepatan angin.\n",
        "\n",
        "Visualisasi ini memberikan gambaran pola interaksi antara suhu, kelembapan, kecepatan angin, dan jumlah penyewaan sepeda.Setiap lingkaran mewakili satu data penyewaan, dengan ukuran lingkaran yang bervariasi sesuai jumlah penyewaan sepeda (semakin besar jumlahnya, semakin besar lingkarannya). Warna lingkaran menunjukkan kecepatan angin, menggunakan palet warna \"coolwarm\", di mana warna yang lebih hangat (merah) menunjukkan kecepatan angin lebih tinggi, dan warna yang lebih dingin (biru) menunjukkan kecepatan angin lebih rendah. Sumbu X dan Y masing-masing menunjukkan suhu dan kelembapan yang telah dinormalisasi, memberikan pandangan yang jelas tentang bagaimana faktor-faktor lingkungan ini memengaruhi tren penyewaan sepeda."
      ],
      "metadata": {
        "id": "gxnFsRlL7UR-"
      }
    },
    {
      "cell_type": "markdown",
      "source": [
        "### Pertanyaan 4: Apa pola penyewaan sepeda berdasarkan musim dan bagaimana pengaruhnya terhadap jumlah sewa di setiap musim?\n"
      ],
      "metadata": {
        "id": "JbygTrOAqPWy"
      }
    },
    {
      "cell_type": "code",
      "source": [
        "\n",
        "\n",
        "# Data\n",
        "data = {'season': ['Winter', 'Spring', 'Summer', 'Fall'],\n",
        "        'casual': [334.928177, 1106.097826, 1202.611702, 729.112360],\n",
        "        'registered': [2269.204420, 3886.233696, 4441.691489, 3999.050562],\n",
        "        'cnt': [2604.132597, 4992.331522, 5644.303191, 4728.162921]}\n",
        "\n",
        "df = pd.DataFrame(data)\n",
        "\n",
        "# Set style\n",
        "sns.set(style=\"whitegrid\")\n",
        "\n",
        "# buat plot\n",
        "plt.figure(figsize=(10, 6))\n",
        "sns.barplot(x='season', y='cnt', data=df, palette='coolwarm')\n",
        "\n",
        "# tambah label sama judul\n",
        "plt.title('Pola Penyewaan Sepeda Berdasarkan Musim', fontsize=14)\n",
        "plt.xlabel('Musim', fontsize=12)\n",
        "plt.ylabel('Jumlah Penyewaan (cnt)', fontsize=12)\n",
        "\n",
        "# tampilkan\n",
        "plt.show()\n"
      ],
      "metadata": {
        "id": "mIwImek4qzPW",
        "colab": {
          "base_uri": "https://localhost:8080/",
          "height": 681
        },
        "outputId": "165526b9-91bd-4157-9a21-332a997b4744"
      },
      "execution_count": null,
      "outputs": [
        {
          "output_type": "stream",
          "name": "stderr",
          "text": [
            "<ipython-input-1-e5b0dca86583>:18: FutureWarning: \n",
            "\n",
            "Passing `palette` without assigning `hue` is deprecated and will be removed in v0.14.0. Assign the `x` variable to `hue` and set `legend=False` for the same effect.\n",
            "\n",
            "  sns.barplot(x='season', y='cnt', data=df, palette='coolwarm')\n"
          ]
        },
        {
          "output_type": "display_data",
          "data": {
            "text/plain": [
              "<Figure size 1000x600 with 1 Axes>"
            ],
            "image/png": "[encoded data removed]"
          },
          "metadata": {}
        }
      ]
    },
    {
      "cell_type": "markdown",
      "source": [
        "Grafik batang di atas memperlihatkan jumlah penyewaan sepeda yang dibagi berdasarkan musim (Winter, Spring, Summer, Fall). Musim panas menunjukkan jumlah penyewaan tertinggi, diikuti oleh musim semi, kemudian musim gugur, dan yang terendah adalah musim dingin. Tren ini menunjukkan bahwa cuaca yang lebih hangat seperti di musim panas dan musim semi mendukung aktivitas bersepeda, sementara musim dingin menunjukkan penurunan yang signifikan dalam penyewaan."
      ],
      "metadata": {
        "id": "tQiybDrYiLJv"
      }
    },
    {
      "cell_type": "markdown",
      "source": [
        "### Pertanyaan 5:  Bagaimana perbedaan pola penyewaan sepeda antara hari kerja dan hari libur?\n"
      ],
      "metadata": {
        "id": "cVOdYdGBqWnQ"
      }
    },
    {
      "cell_type": "code",
      "execution_count": null,
      "metadata": {
        "id": "1swJUdAD8DC2",
        "colab": {
          "base_uri": "https://localhost:8080/",
          "height": 681
        },
        "outputId": "ac7627c2-abf9-4ccb-e205-52287e9f7021"
      },
      "outputs": [
        {
          "output_type": "stream",
          "name": "stderr",
          "text": [
            "<ipython-input-3-bd4cf1d55fe0>:16: FutureWarning: \n",
            "\n",
            "Passing `palette` without assigning `hue` is deprecated and will be removed in v0.14.0. Assign the `x` variable to `hue` and set `legend=False` for the same effect.\n",
            "\n",
            "  sns.barplot(x='workingday', y='cnt', data=df, palette='coolwarm')\n"
          ]
        },
        {
          "output_type": "display_data",
          "data": {
            "text/plain": [
              "<Figure size 1000x600 with 1 Axes>"
            ],
            "image/png": "[encoded data removed]"
          },
          "metadata": {}
        }
      ],
      "source": [
        "\n",
        "# Data\n",
        "data = {'workingday': ['Libur', 'Hari Kerja'],\n",
        "        'casual': [1371.134199, 606.570000],\n",
        "        'registered': [2959.034632, 3978.250000],\n",
        "        'cnt': [4330.168831, 4584.820000]}\n",
        "\n",
        "df = pd.DataFrame(data)\n",
        "\n",
        "# Set style\n",
        "sns.set(style=\"whitegrid\")\n",
        "\n",
        "# Create plot\n",
        "plt.figure(figsize=(10, 6))\n",
        "\n",
        "# Plot total counts ('cnt') for casual and registered users on working days and holidays\n",
        "sns.barplot(x='workingday', y='cnt', data=df, palette='coolwarm')\n",
        "\n",
        "# Add labels and title\n",
        "plt.title('Perbedaan Pola Penyewaan Sepeda antara Hari Kerja dan Hari Libur', fontsize=14)\n",
        "plt.xlabel('Status Hari (Libur/Hari Kerja)', fontsize=12)\n",
        "plt.ylabel('Jumlah Penyewaan (cnt)', fontsize=12)\n",
        "\n",
        "# Display the plot\n",
        "plt.show()\n"
      ]
    },
    {
      "cell_type": "markdown",
      "source": [
        "Grafik batang, memperlihatkan perbedaan pola penyewaan sepeda antara hari libur dan hari kerja. Pada hari kerja, jumlah penyewaan yang terdaftar (registered) lebih tinggi dibandingkan dengan hari libur. Namun, pada hari libur, penyewaan oleh pengguna kasual lebih banyak dibandingkan dengan hari kerja. Meskipun begitu, total jumlah penyewaan sepeda (cnt) secara keseluruhan sedikit lebih tinggi pada hari kerja, yang mengindikasikan bahwa pengguna terdaftar tetap melakukan aktivitas bersepeda lebih sering di hari kerja, sementara pengguna kasual lebih banyak menyewa di hari libur."
      ],
      "metadata": {
        "id": "Jb33SWFpjRU_"
      }
    },
    {
      "cell_type": "markdown",
      "source": [
        "### Pertanyaan 6: Bagaimana pengaruh cuaca terhadap perbedaan jumlah penyewaan antara pengguna kasual dan terdaftar?\n",
        "\n",
        "\n",
        "\n"
      ],
      "metadata": {
        "id": "RX4V8hwcqcZZ"
      }
    },
    {
      "cell_type": "code",
      "execution_count": null,
      "metadata": {
        "id": "Go0lCsvO8DC2",
        "colab": {
          "base_uri": "https://localhost:8080/",
          "height": 681
        },
        "outputId": "19632b26-469a-49d1-a250-8804cfdf3b14"
      },
      "outputs": [
        {
          "output_type": "stream",
          "name": "stderr",
          "text": [
            "<ipython-input-7-082fe6736992>:20: FutureWarning: \n",
            "\n",
            "Passing `palette` without assigning `hue` is deprecated and will be removed in v0.14.0. Assign the `x` variable to `hue` and set `legend=False` for the same effect.\n",
            "\n",
            "  sns.barplot(x='weathersit', y='cnt', data=df, palette='Blues')\n"
          ]
        },
        {
          "output_type": "display_data",
          "data": {
            "text/plain": [
              "<Figure size 1000x600 with 1 Axes>"
            ],
            "image/png": "[encoded data removed]"
          },
          "metadata": {}
        }
      ],
      "source": [
        "\n",
        "\n",
        "# Data\n",
        "data = {'weathersit': ['Clear', 'Light Rain', 'Partly Cloudy'],\n",
        "        'casual': [964.030238, 185.476190, 687.352227],\n",
        "        'registered': [3912.755940, 1617.809524, 3348.510121],\n",
        "        'cnt': [4876.786177, 1803.285714, 4035.862348]}\n",
        "\n",
        "df = pd.DataFrame(data)\n",
        "\n",
        "\n",
        "sns.set(style=\"whitegrid\")\n",
        "\n",
        "plt.figure(figsize=(10, 6))\n",
        "\n",
        "\n",
        "sns.barplot(x='weathersit', y='cnt', data=df, palette='Blues')\n",
        "\n",
        "\n",
        "plt.title('Pengaruh Cuaca terhadap Perbedaan Jumlah Penyewaan Sepeda antara Pengguna Kasual dan Terdaftar', fontsize=14)\n",
        "plt.xlabel('Kondisi Cuaca', fontsize=12)\n",
        "plt.ylabel('Jumlah Penyewaan (cnt)', fontsize=12)\n",
        "\n",
        "plt.show()\n"
      ]
    },
    {
      "cell_type": "markdown",
      "source": [
        "Grafik di atas menunjukkan bagaimana cuaca memengaruhi jumlah penyewaan sepeda oleh pengguna kasual dan terdaftar. Saat cuaca cerah (Clear), penyewaan sepeda mencapai angka tertinggi, baik untuk pengguna kasual maupun terdaftar. Pada kondisi Partly Cloudy, jumlah penyewaan masih cukup tinggi, tetapi mengalami penurunan dibandingkan cuaca cerah. Namun, pada kondisi hujan ringan (Light Rain), terdapat penurunan drastis dalam penyewaan, terutama di kalangan pengguna kasual. Ini menunjukkan bahwa cuaca buruk, seperti hujan ringan, memiliki dampak signifikan dalam mengurangi jumlah penyewaan sepeda, terutama untuk pengguna kasual yang mungkin lebih sensitif terhadap kondisi cuaca."
      ],
      "metadata": {
        "id": "dy1vc3PzkfQi"
      }
    },
    {
      "cell_type": "markdown",
      "metadata": {
        "id": "_WeHlCeX8DC2"
      },
      "source": [
        "## Conclusion"
      ]
    },
    {
      "cell_type": "markdown",
      "metadata": {
        "id": "ZTcyR48Y8DC2"
      },
      "source": [
        "Berikut adalah beberapa kesimpulan berdasarkan pertanyaan-pertanyaan yang telah diberikan:\n",
        "\n",
        "**Conclusion Pertanyaan 1:**\n",
        "Pola penyewaan sepeda antara pengguna terdaftar dan kasual menunjukkan perbedaan yang signifikan. Penyewa terdaftar cenderung lebih konsisten dan lebih banyak dalam jumlah, dengan nilai rata-rata hampir dua kali lipat dari pengguna kasual. Hal ini mengindikasikan bahwa pengguna terdaftar mungkin menggunakan sepeda sebagai bagian dari rutinitas harian, sementara pengguna kasual mungkin lebih terpengaruh oleh faktor eksternal, seperti cuaca atau kesempatan rekreasi.\n",
        "\n",
        "**Conclusion Pertanyaan 2:**\n",
        "Variasi penyewaan sepeda berdasarkan hari dalam seminggu dan jenis cuaca menunjukkan bahwa pengguna sepeda lebih suka bersepeda saat cuaca cerah atau sedikit berawan. Hari Sabtu dan Minggu dengan cuaca cerah menempati posisi tertinggi dalam jumlah penyewaan, baik untuk pengguna kasual maupun terdaftar, dengan jumlah penyewaan lebih dari 8000. Sementara itu, hujan ringan mengurangi jumlah penyewaan secara signifikan, terutama untuk pengguna kasual.\n",
        "\n",
        "**Conclusion Pertanyaan 3:**\n",
        "Pengelompokan data penyewaan berdasarkan suhu, kelembapan, dan kecepatan angin menunjukkan bahwa suhu yang lebih hangat (sekitar 0.7) cenderung meningkatkan jumlah penyewaan, baik untuk pengguna kasual maupun terdaftar. Kelembapan yang sedang hingga rendah (sekitar 0.4-0.6) juga menjadi faktor pendukung penyewaan sepeda yang lebih tinggi. Kecepatan angin yang terlalu tinggi, di sisi lain, tampaknya menurunkan jumlah penyewaan.\n",
        "\n",
        "**Conclusion Pertanyaan 4:**\n",
        "Pola penyewaan sepeda berdasarkan musim menunjukkan bahwa musim panas (season 2 dan 3) memiliki jumlah penyewaan sepeda tertinggi, dengan jumlah rata-rata di atas 5000 per hari. Musim dingin (season 1) memiliki jumlah penyewaan terendah, dengan rata-rata sekitar 2600, menunjukkan bahwa cuaca yang lebih hangat menarik lebih banyak penyewa sepeda. Musim gugur (season 4) memiliki penyewaan lebih rendah dari musim panas namun masih cukup tinggi.\n",
        "\n",
        "**Conclusion Pertanyaan 5:**\n",
        "Perbedaan pola penyewaan sepeda antara hari kerja dan hari libur sangat jelas, di mana hari libur memiliki rata-rata penyewaan yang lebih tinggi. Pada hari libur, jumlah penyewaan mencapai lebih dari 4300, terutama karena pengguna kasual lebih banyak menyewa pada akhir pekan. Sebaliknya, pada hari kerja, penyewaan didominasi oleh pengguna terdaftar, dengan jumlah penyewaan rata-rata mencapai sekitar 4600.\n",
        "\n",
        "**Conclusion Pertanyaan 6:**\n",
        "Pengaruh cuaca terhadap perbedaan jumlah penyewaan antara pengguna kasual dan terdaftar menunjukkan bahwa cuaca cerah sangat meningkatkan jumlah penyewaan untuk kedua kelompok. Cuaca hujan ringan mengurangi penyewaan terutama di kalangan pengguna kasual, dengan penurunan yang sangat signifikan di bawah 200. Cuaca berawan memberikan hasil yang lebih seimbang, namun tetap lebih tinggi untuk pengguna terdaftar dibandingkan dengan kasual."
      ]
    }
  ],
  "metadata": {
    "kernelspec": {
      "display_name": "Python 3",
      "language": "python",
      "name": "python3"
    },
    "language_info": {
      "name": "python",
      "version": "3.8.0 (tags/v3.8.0:fa919fd, Oct 14 2019, 19:21:23) [MSC v.1916 32 bit (Intel)]"
    },
    "orig_nbformat": 4,
    "vscode": {
      "interpreter": {
        "hash": "972b3bf27e332e87b5379f2791f6ef9dfc79c71018c370b0d7423235e20fe4d7"
      }
    },
    "colab": {
      "provenance": []
    }
  },
  "nbformat": 4,
  "nbformat_minor": 0
}